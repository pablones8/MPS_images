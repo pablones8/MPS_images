{
 "cells": [
  {
   "attachments": {},
   "cell_type": "markdown",
   "metadata": {},
   "source": [
    "# 1 layer, 3 vs 9, few training samples"
   ]
  },
  {
   "attachments": {},
   "cell_type": "markdown",
   "metadata": {},
   "source": [
    "# Classification of MNIST binary dataset using MPS encoding"
   ]
  },
  {
   "cell_type": "code",
   "execution_count": 37,
   "metadata": {},
   "outputs": [],
   "source": [
    "from functions import *\n",
    "from MPS_functions import *\n",
    "\n",
    "import numpy as np\n",
    "import matplotlib.pyplot as plt\n",
    "import pennylane as qml\n",
    "from pennylane import numpy as np\n",
    "from pennylane.optimize import AdamOptimizer\n",
    "from sklearn import svm\n",
    "import math\n",
    "\n",
    "np.random.seed(88)"
   ]
  },
  {
   "attachments": {},
   "cell_type": "markdown",
   "metadata": {},
   "source": [
    "## Import MNIST dataset"
   ]
  },
  {
   "cell_type": "code",
   "execution_count": 38,
   "metadata": {},
   "outputs": [
    {
     "name": "stdout",
     "output_type": "stream",
     "text": [
      "Number of original training examples: 60000\n",
      "Number of original test examples: 10000\n"
     ]
    }
   ],
   "source": [
    "with np.load('mnist.npz', allow_pickle=True) as f:\n",
    "    x_train, y_train = f['x_train'], f['y_train']\n",
    "    x_test, y_test = f['x_test'], f['y_test']\n",
    "\n",
    "# Rescale the images from [0,255] to the [0,1] range.\n",
    "x_train = x_train / 255.0\n",
    "x_test = x_test / 255.0\n",
    "\n",
    "print(\"Number of original training examples:\", len(x_train))\n",
    "print(\"Number of original test examples:\", len(x_test))"
   ]
  },
  {
   "attachments": {},
   "cell_type": "markdown",
   "metadata": {},
   "source": [
    "### We filter only two classes for binary classification"
   ]
  },
  {
   "attachments": {},
   "cell_type": "markdown",
   "metadata": {},
   "source": [
    "We choose two numbers: number_0 and number_1 "
   ]
  },
  {
   "cell_type": "code",
   "execution_count": 39,
   "metadata": {},
   "outputs": [],
   "source": [
    "number_0 = 3; number_1 = 9 "
   ]
  },
  {
   "cell_type": "code",
   "execution_count": 40,
   "metadata": {},
   "outputs": [],
   "source": [
    "def filter_01(x, y, number_0, number_1):\n",
    "    keep = (y == number_0) | (y == number_1)\n",
    "    x, y = x[keep], y[keep]\n",
    "    return x,y"
   ]
  },
  {
   "cell_type": "code",
   "execution_count": 41,
   "metadata": {},
   "outputs": [
    {
     "name": "stdout",
     "output_type": "stream",
     "text": [
      "Number of filtered training examples: 12080\n",
      "Number of filtered test examples: 2019\n"
     ]
    }
   ],
   "source": [
    "x_train, y_train = filter_01(x_train, y_train, number_0, number_1)\n",
    "x_test, y_test = filter_01(x_test, y_test, number_0, number_1)\n",
    "\n",
    "print(\"Number of filtered training examples:\", len(x_train))\n",
    "print(\"Number of filtered test examples:\", len(x_test))"
   ]
  },
  {
   "attachments": {},
   "cell_type": "markdown",
   "metadata": {},
   "source": [
    "Labels must be 0's and 1's"
   ]
  },
  {
   "cell_type": "code",
   "execution_count": 42,
   "metadata": {},
   "outputs": [],
   "source": [
    "y_test = np.where(y_test == number_0, 0, y_test)\n",
    "y_test = np.where(y_test == number_1, 1, y_test)\n",
    "y_test = np.array(y_test, requires_grad=False)\n",
    "\n",
    "y_train = np.where(y_train == number_0, 0, y_train)\n",
    "y_train = np.where(y_train == number_1, 1, y_train)\n",
    "y_train = np.array(y_train, requires_grad=False)"
   ]
  },
  {
   "attachments": {},
   "cell_type": "markdown",
   "metadata": {},
   "source": [
    "Take random training and test subsets"
   ]
  },
  {
   "cell_type": "code",
   "execution_count": 43,
   "metadata": {},
   "outputs": [
    {
     "name": "stdout",
     "output_type": "stream",
     "text": [
      "(1000, 28, 28)\n",
      "(2000, 28, 28)\n"
     ]
    }
   ],
   "source": [
    "def random_subset(x, y, n):\n",
    "    indices = np.random.choice(len(x), n, replace=False)\n",
    "    return x[indices], y[indices]\n",
    "\n",
    "# Set your desired number of samples\n",
    "n_train = 1000\n",
    "n_test = 2000\n",
    "\n",
    "x_train, y_train = random_subset(x_train, y_train, n_train)\n",
    "x_test, y_test = random_subset(x_test, y_test, n_test)\n",
    "\n",
    "print(x_train.shape)\n",
    "print(x_test.shape)"
   ]
  },
  {
   "attachments": {},
   "cell_type": "markdown",
   "metadata": {},
   "source": [
    "## Create the superposition state \n",
    "\n",
    "We need $L=\\left \\lceil{\\log_2(28\\times 28)}\\right \\rceil = 10$ qubits for the image loading. We define the 10-qubit quantum state:\n",
    "$$\n",
    "\\begin{align}\n",
    "|\\psi\\rangle=\\frac{|z\\rangle + |W\\rangle}{\\sqrt{2}}\n",
    "\\end{align}\n",
    "$$\n",
    "\n",
    "Where:\\\n",
    "$\\bullet |z\\rangle =$ image from left to right and up to down\\\n",
    "$\\bullet |W\\rangle =$ image from up to down and left to right\n"
   ]
  },
  {
   "cell_type": "code",
   "execution_count": 44,
   "metadata": {},
   "outputs": [],
   "source": [
    "# Create unnormalized |z> and |W>\n",
    "def encode_mnist_states(images, reading_order=\"left_to_right_up_to_down\"):\n",
    "    n_samples, n_rows, n_cols = images.shape\n",
    "\n",
    "    encoding_qubits=math.ceil(math.log2(n_rows*n_cols))\n",
    "    state_dim = 2 ** encoding_qubits  \n",
    "\n",
    "    encoded_states = np.zeros((n_samples, state_dim))\n",
    "\n",
    "    for i, image in enumerate(images):\n",
    "        state = np.zeros(state_dim)\n",
    "        index = 0\n",
    "\n",
    "        if reading_order == \"left_to_right_up_to_down\":\n",
    "            for row in range(n_rows):\n",
    "                for col in range(n_cols):\n",
    "                    state[index] = image[row, col]\n",
    "                    index += 1\n",
    "        elif reading_order == \"up_to_down_left_to_right\":\n",
    "            for col in range(n_cols):\n",
    "                for row in range(n_rows):\n",
    "                    state[index] = image[row, col]\n",
    "                    index += 1\n",
    "        else:\n",
    "            raise ValueError(\"Invalid reading_order. Choose 'left_to_right_up_to_down' or 'up_to_down_left_to_right'.\")\n",
    "\n",
    "        encoded_states[i, :] = state\n",
    "\n",
    "    return encoded_states\n",
    "\n",
    "train_left_right = encode_mnist_states(x_train, reading_order=\"left_to_right_up_to_down\")\n",
    "train_up_down = encode_mnist_states(x_train, reading_order=\"up_to_down_left_to_right\")\n",
    "\n",
    "test_left_right = encode_mnist_states(x_test, reading_order=\"left_to_right_up_to_down\")\n",
    "test_up_down = encode_mnist_states(x_test, reading_order=\"up_to_down_left_to_right\")\n",
    "\n",
    "\n",
    "# Create the superposition quantum state\n",
    "def create_normalized_vectors(encoded_states_left_right, encoded_states_up_down):\n",
    "    normalized_vectors = []\n",
    "    for i in range(len(encoded_states_left_right)):\n",
    "        left_right = encoded_states_left_right[i]\n",
    "        up_down = encoded_states_up_down[i]\n",
    "        \n",
    "        # Sum the corresponding elements from both arrays\n",
    "        combined = np.add(left_right, up_down)\n",
    "        \n",
    "        # Normalization\n",
    "        l2_norm = np.linalg.norm(combined, ord=2)\n",
    "        normalized_vector = combined / l2_norm\n",
    "        \n",
    "        normalized_vectors.append(normalized_vector)\n",
    "    \n",
    "    return np.array(normalized_vectors, requires_grad = False)"
   ]
  },
  {
   "attachments": {},
   "cell_type": "markdown",
   "metadata": {},
   "source": [
    "The training and test sets containing the superposition quantum states $|\\psi\\rangle$ of the images:"
   ]
  },
  {
   "cell_type": "code",
   "execution_count": 45,
   "metadata": {},
   "outputs": [],
   "source": [
    "training_states = create_normalized_vectors(train_left_right, train_up_down)\n",
    "test_states = create_normalized_vectors(test_left_right, test_up_down)"
   ]
  },
  {
   "attachments": {},
   "cell_type": "markdown",
   "metadata": {},
   "source": [
    "## Clasical benchmark using these arrays to perform classification\n",
    "\n",
    "We are using state $|\\psi\\rangle$ as input for the clasical model"
   ]
  },
  {
   "attachments": {},
   "cell_type": "markdown",
   "metadata": {},
   "source": [
    "This linear model uses a numper of parameters p=n_features+1\\\n",
    "In our case this is 1024+1=1025 trainable parameters"
   ]
  },
  {
   "cell_type": "code",
   "execution_count": 46,
   "metadata": {},
   "outputs": [
    {
     "name": "stdout",
     "output_type": "stream",
     "text": [
      "Accuracy: 0.9665\n"
     ]
    }
   ],
   "source": [
    "from sklearn.linear_model import LogisticRegression\n",
    "from sklearn.metrics import accuracy_score\n",
    "\n",
    "# Replace with your data loading code\n",
    "X_train = training_states\n",
    "X_test = test_states\n",
    "\n",
    "# Create a LogisticRegression model\n",
    "model = LogisticRegression()\n",
    "\n",
    "# Train the model on the training data\n",
    "model.fit(X_train, y_train)\n",
    "\n",
    "# Make predictions on the test data\n",
    "y_pred = model.predict(X_test)\n",
    "\n",
    "# Calculate the accuracy of the model\n",
    "accuracy = accuracy_score(y_test, y_pred)\n",
    "print(\"Accuracy:\", accuracy)"
   ]
  },
  {
   "attachments": {},
   "cell_type": "markdown",
   "metadata": {},
   "source": [
    "## Using the MPS approximation of the image states\n",
    "\n",
    "We will use the approximated states\n",
    "\n",
    "$$\n",
    "\\begin{align}\n",
    "|\\tilde{\\psi}\\rangle=\\text{MPS}_\\chi (|\\psi\\rangle)\n",
    "\\end{align}\n",
    "$$\n",
    "\n",
    "where $\\chi$ is the bond dimension which controls the degree of compression of the image."
   ]
  },
  {
   "attachments": {},
   "cell_type": "markdown",
   "metadata": {},
   "source": [
    "Take an example"
   ]
  },
  {
   "cell_type": "code",
   "execution_count": 47,
   "metadata": {},
   "outputs": [],
   "source": [
    "def norm_2(exact,approximate):\n",
    "    length = len(exact)\n",
    "    sum = 0\n",
    "    for i in range(length):\n",
    "        sum = sum + (exact[i]-approximate[i])**2\n",
    "    return np.sqrt(sum/length)[0]\n",
    "\n",
    "def fidelity(exact,approximate):\n",
    "    return np.abs(exact @ approximate)**2"
   ]
  },
  {
   "cell_type": "code",
   "execution_count": 48,
   "metadata": {},
   "outputs": [
    {
     "name": "stdout",
     "output_type": "stream",
     "text": [
      "Chi =1\n",
      "Fidelity:  0.26938966383054375\n",
      "L2 norm:  0.03064961976767334\n",
      "\n",
      "Chi =2\n",
      "Fidelity:  0.4329252552066784\n",
      "L2 norm:  0.0258462038583748\n",
      "\n",
      "Chi =4\n",
      "Fidelity:  0.7252576143587157\n",
      "L2 norm:  0.017023617485813113\n",
      "\n",
      "Chi =8\n",
      "Fidelity:  0.9144238715711407\n",
      "L2 norm:  0.009243332804952143\n",
      "\n",
      "Chi =16\n",
      "Fidelity:  0.9975186082969193\n",
      "L2 norm:  0.0015571574105562739\n",
      "\n",
      "Chi =32\n",
      "Fidelity:  1.0000000000000027\n",
      "L2 norm:  1.0175162965938628e-16\n",
      "\n"
     ]
    }
   ],
   "source": [
    "L = 10; d = 2; chis = [1,2,4,8,16,32]\n",
    "\n",
    "# We take an element of the training set as an example\n",
    "state = training_states[0]\n",
    "\n",
    "for chi in chis:\n",
    "    mps = MPS(state, L, d, chi)\n",
    "    approx_state = MPS_contraction(mps, L, d)\n",
    "    fid = fidelity(state,approx_state)\n",
    "    L2_norm = norm_2(state,approx_state)\n",
    "    print('Chi ='+ str(chi))\n",
    "    print('Fidelity: ', fid[0])\n",
    "    print('L2 norm: ', L2_norm)\n",
    "    print('')"
   ]
  },
  {
   "attachments": {},
   "cell_type": "markdown",
   "metadata": {},
   "source": [
    "Now we choose a $\\chi$ and we obtain the correspondent approximated training and test sets"
   ]
  },
  {
   "cell_type": "code",
   "execution_count": 49,
   "metadata": {},
   "outputs": [],
   "source": [
    "chi = 1\n",
    "\n",
    "training_approx_states = []\n",
    "test_approx_states = []\n",
    "\n",
    "for element in training_states:\n",
    "    mps = MPS(element, L, d, chi)\n",
    "    approximation = MPS_contraction(mps, L, d)\n",
    "    approximation = np.reshape(approximation, (1, -1))\n",
    "    training_approx_states.append(approximation[0])\n",
    "\n",
    "for element in test_states:\n",
    "    mps = MPS(element, L, d, chi)\n",
    "    approximation = MPS_contraction(mps, L, d)\n",
    "    approximation = np.reshape(approximation, (1, -1))\n",
    "    test_approx_states.append(approximation[0])"
   ]
  },
  {
   "attachments": {},
   "cell_type": "markdown",
   "metadata": {},
   "source": [
    "Clasical benchmark with the approximation state $|\\tilde{\\psi}\\rangle$"
   ]
  },
  {
   "cell_type": "code",
   "execution_count": 50,
   "metadata": {},
   "outputs": [
    {
     "name": "stdout",
     "output_type": "stream",
     "text": [
      "Accuracy: 0.796\n"
     ]
    }
   ],
   "source": [
    "model = LogisticRegression()\n",
    "model.fit(training_approx_states, y_train)\n",
    "y_pred = model.predict(test_approx_states)\n",
    "accuracy = accuracy_score(y_test, y_pred)\n",
    "print(\"Accuracy:\", accuracy)"
   ]
  },
  {
   "cell_type": "code",
   "execution_count": 51,
   "metadata": {},
   "outputs": [],
   "source": [
    "save_1 = training_approx_states[0]"
   ]
  },
  {
   "attachments": {},
   "cell_type": "markdown",
   "metadata": {},
   "source": [
    "To ensure that Pennylane does not try to compute the grad:"
   ]
  },
  {
   "cell_type": "code",
   "execution_count": 52,
   "metadata": {},
   "outputs": [],
   "source": [
    "x_train = np.array(training_approx_states, requires_grad=False)\n",
    "x_test = np.array(test_approx_states, requires_grad=False)"
   ]
  },
  {
   "attachments": {},
   "cell_type": "markdown",
   "metadata": {},
   "source": [
    "# Variational model "
   ]
  },
  {
   "cell_type": "code",
   "execution_count": 53,
   "metadata": {},
   "outputs": [],
   "source": [
    "# Number of layes of the model\n",
    "# The number of trainabla parameters will be 3*layers*loading_qubits\n",
    "layers = 1"
   ]
  },
  {
   "attachments": {},
   "cell_type": "markdown",
   "metadata": {},
   "source": [
    "Here we present the variational quantum circuit which will be used as QNN\\\n",
    "We assume it is initialized with $|\\tilde{\\psi}\\rangle$ loaded in the amplitudes"
   ]
  },
  {
   "cell_type": "code",
   "execution_count": 55,
   "metadata": {},
   "outputs": [],
   "source": [
    "# We need L = 10 qubits to encode the image using MPS and one extra qubit to perform classification\n",
    "\n",
    "loading_qubits = int(np.log2(len(training_states[0])))\n",
    "qubits = int(loading_qubits+1) \n",
    "\n",
    "dev = qml.device(\"default.qubit\", wires=qubits)\n",
    "@qml.qnode(dev, interface=\"autograd\")\n",
    "def QNN(params, x, y):\n",
    "    loading_qubits = int(np.log2(len(x)))\n",
    "    layers = np.shape(params)[0]//loading_qubits\n",
    "\n",
    "    qml.AmplitudeEmbedding(x, wires=list(range(loading_qubits)))\n",
    "\n",
    "    for j in range(layers):\n",
    "        for p in range(loading_qubits):\n",
    "            qml.CRot(params[j*loading_qubits+p][0],params[j*loading_qubits+p][1],params[j*loading_qubits+p][2], wires=[p,loading_qubits])\n",
    "\n",
    "    return qml.expval(qml.Hermitian(y, wires=[loading_qubits]))"
   ]
  },
  {
   "attachments": {},
   "cell_type": "markdown",
   "metadata": {},
   "source": [
    "The classification qubits assigns labels according to the fidelity with respect to the label states $|0\\rangle$ and $|1\\rangle$"
   ]
  },
  {
   "cell_type": "code",
   "execution_count": 56,
   "metadata": {},
   "outputs": [],
   "source": [
    "label_0 = [[1,0],[0,0]]\n",
    "label_1 = [[0,0],[0,1]]\n",
    "dm_labels = [label_0, label_1]\n",
    "dm_labels = np.array(dm_labels, requires_grad=False)"
   ]
  },
  {
   "cell_type": "code",
   "execution_count": 58,
   "metadata": {},
   "outputs": [],
   "source": [
    "def cost(params, x, y, dm_labels):\n",
    "    loss = 0.0\n",
    "    \n",
    "    for i in range(len(x)):\n",
    "        f = QNN(params, x[i], dm_labels[int(y[i])])\n",
    "        loss = loss + (1 - f) ** 2\n",
    "    return loss / len(x)\n",
    "\n",
    "def test(params, x, y, dm_labels):\n",
    "    fidelity_values = []\n",
    "    predicted = []\n",
    "\n",
    "    for i in range(len(x)):\n",
    "        fidel_function = lambda y: QNN(params, x[i], y)\n",
    "        fidelities = [fidel_function(dm) for dm in dm_labels] \n",
    "        best_fidel = np.argmax(fidelities)\n",
    "\n",
    "        predicted.append(best_fidel)\n",
    "        fidelity_values.append(fidelities)\n",
    "\n",
    "    return np.array(predicted), np.array(fidelity_values)"
   ]
  },
  {
   "attachments": {},
   "cell_type": "markdown",
   "metadata": {},
   "source": [
    "Training:"
   ]
  },
  {
   "cell_type": "code",
   "execution_count": 59,
   "metadata": {},
   "outputs": [
    {
     "name": "stdout",
     "output_type": "stream",
     "text": [
      "Epoch:  0 | Cost: 0.325183 | Train accuracy: 0.479000 | Test Accuracy: 0.501500\n",
      "Epoch:  1 | Loss: 0.217134 | Train accuracy: 0.717000 | Test accuracy: 0.694500\n",
      "Epoch:  2 | Loss: 0.212261 | Train accuracy: 0.734000 | Test accuracy: 0.695500\n",
      "Epoch:  3 | Loss: 0.211097 | Train accuracy: 0.731000 | Test accuracy: 0.702000\n",
      "Epoch:  4 | Loss: 0.210846 | Train accuracy: 0.739000 | Test accuracy: 0.710500\n",
      "Epoch:  5 | Loss: 0.211266 | Train accuracy: 0.747000 | Test accuracy: 0.715500\n"
     ]
    }
   ],
   "source": [
    "#Train using Adam optimizer and evaluate the classifier\n",
    "learning_rate = 0.05\n",
    "epochs = 5\n",
    "batch_size = 8\n",
    "opt = AdamOptimizer(learning_rate, beta1=0.9, beta2=0.999)\n",
    "\n",
    "np.random.seed(88)\n",
    "params = np.random.uniform(size=(layers*loading_qubits, 3), requires_grad=True) \n",
    "\n",
    "predicted_train, fidel_train = test(params, x_train, y_train, dm_labels)\n",
    "accuracy_train = accuracy_score(y_train, predicted_train)\n",
    "\n",
    "predicted_test, fidel_test = test(params, x_test, y_test, dm_labels)\n",
    "accuracy_test = accuracy_score(y_test, predicted_test)\n",
    "\n",
    "initial_predictions = predicted_test\n",
    "\n",
    "loss = cost(params, test_states, y_test, dm_labels)\n",
    "\n",
    "print(\"Epoch: {:2d} | Cost: {:3f} | Train accuracy: {:3f} | Test Accuracy: {:3f}\".format(0, loss, accuracy_train, accuracy_test))\n",
    "\n",
    "for it in range(epochs): \n",
    "    for Xbatch, ybatch in iterate_minibatches(x_train, y_train, batch_size=batch_size): \n",
    "        params, _, _, _ = opt.step(cost, params, Xbatch, ybatch, dm_labels)\n",
    "\n",
    "    predicted_train, fidel_train = test(params, x_train, y_train, dm_labels)\n",
    "    accuracy_train = accuracy_score(y_train, predicted_train) \n",
    "    loss = cost(params, x_train, y_train, dm_labels)\n",
    "\n",
    "    predicted_test, fidel_test = test(params, x_test, y_test, dm_labels)\n",
    "    accuracy_test = accuracy_score(y_test, predicted_test)\n",
    "    res = [it + 1, loss, accuracy_train, accuracy_test]\n",
    "    print(\"Epoch: {:2d} | Loss: {:3f} | Train accuracy: {:3f} | Test accuracy: {:3f}\".format(*res))"
   ]
  },
  {
   "attachments": {},
   "cell_type": "markdown",
   "metadata": {},
   "source": [
    "## $\\chi=2$"
   ]
  },
  {
   "cell_type": "code",
   "execution_count": 61,
   "metadata": {},
   "outputs": [],
   "source": [
    "chi = 2\n",
    "\n",
    "training_approx_states = []\n",
    "test_approx_states = []\n",
    "\n",
    "for element in training_states:\n",
    "    mps = MPS(element, L, d, chi)\n",
    "    approximation = MPS_contraction(mps, L, d)\n",
    "    approximation = np.reshape(approximation, (1, -1))\n",
    "    training_approx_states.append(approximation[0])\n",
    "\n",
    "for element in test_states:\n",
    "    mps = MPS(element, L, d, chi)\n",
    "    approximation = MPS_contraction(mps, L, d)\n",
    "    approximation = np.reshape(approximation, (1, -1))\n",
    "    test_approx_states.append(approximation[0])\n",
    "\n",
    "x_train = np.array(training_approx_states, requires_grad=False)\n",
    "x_test = np.array(test_approx_states, requires_grad=False)"
   ]
  },
  {
   "attachments": {},
   "cell_type": "markdown",
   "metadata": {},
   "source": [
    "Classical benchmark:"
   ]
  },
  {
   "cell_type": "code",
   "execution_count": 62,
   "metadata": {},
   "outputs": [
    {
     "name": "stdout",
     "output_type": "stream",
     "text": [
      "Accuracy: 0.9375\n"
     ]
    }
   ],
   "source": [
    "model = LogisticRegression()\n",
    "model.fit(training_approx_states, y_train)\n",
    "y_pred = model.predict(test_approx_states)\n",
    "accuracy = accuracy_score(y_test, y_pred)\n",
    "print(\"Accuracy:\", accuracy)"
   ]
  },
  {
   "cell_type": "code",
   "execution_count": 64,
   "metadata": {},
   "outputs": [
    {
     "name": "stdout",
     "output_type": "stream",
     "text": [
      "Epoch:  0 | Cost: 0.325183 | Train accuracy: 0.479000 | Test Accuracy: 0.501500\n",
      "Epoch:  1 | Loss: 0.186869 | Train accuracy: 0.849000 | Test accuracy: 0.875000\n",
      "Epoch:  2 | Loss: 0.183763 | Train accuracy: 0.844000 | Test accuracy: 0.865000\n",
      "Epoch:  3 | Loss: 0.183046 | Train accuracy: 0.848000 | Test accuracy: 0.866000\n",
      "Epoch:  4 | Loss: 0.182757 | Train accuracy: 0.846000 | Test accuracy: 0.866000\n",
      "Epoch:  5 | Loss: 0.182817 | Train accuracy: 0.847000 | Test accuracy: 0.868500\n"
     ]
    }
   ],
   "source": [
    "np.random.seed(88)\n",
    "params = np.random.uniform(size=(layers*loading_qubits, 3), requires_grad=True) \n",
    "\n",
    "predicted_train, fidel_train = test(params, x_train, y_train, dm_labels)\n",
    "accuracy_train = accuracy_score(y_train, predicted_train)\n",
    "\n",
    "predicted_test, fidel_test = test(params, x_test, y_test, dm_labels)\n",
    "accuracy_test = accuracy_score(y_test, predicted_test)\n",
    "\n",
    "initial_predictions = predicted_test\n",
    "\n",
    "loss = cost(params, test_states, y_test, dm_labels)\n",
    "\n",
    "print(\"Epoch: {:2d} | Cost: {:3f} | Train accuracy: {:3f} | Test Accuracy: {:3f}\".format(0, loss, accuracy_train, accuracy_test))\n",
    "\n",
    "for it in range(epochs): \n",
    "    for Xbatch, ybatch in iterate_minibatches(x_train, y_train, batch_size=batch_size): \n",
    "        params, _, _, _ = opt.step(cost, params, Xbatch, ybatch, dm_labels)\n",
    "\n",
    "    predicted_train, fidel_train = test(params, x_train, y_train, dm_labels)\n",
    "    accuracy_train = accuracy_score(y_train, predicted_train) \n",
    "    loss = cost(params, x_train, y_train, dm_labels)\n",
    "\n",
    "    predicted_test, fidel_test = test(params, x_test, y_test, dm_labels)\n",
    "    accuracy_test = accuracy_score(y_test, predicted_test)\n",
    "    res = [it + 1, loss, accuracy_train, accuracy_test]\n",
    "    print(\"Epoch: {:2d} | Loss: {:3f} | Train accuracy: {:3f} | Test accuracy: {:3f}\".format(*res))"
   ]
  },
  {
   "attachments": {},
   "cell_type": "markdown",
   "metadata": {},
   "source": [
    "## $\\chi=3$"
   ]
  },
  {
   "cell_type": "code",
   "execution_count": 66,
   "metadata": {},
   "outputs": [
    {
     "name": "stdout",
     "output_type": "stream",
     "text": [
      "Epoch:  0 | Cost: 0.325183 | Train accuracy: 0.479000 | Test Accuracy: 0.501500\n",
      "Epoch:  1 | Loss: 0.193171 | Train accuracy: 0.836000 | Test accuracy: 0.866500\n",
      "Epoch:  2 | Loss: 0.188398 | Train accuracy: 0.848000 | Test accuracy: 0.873500\n",
      "Epoch:  3 | Loss: 0.186183 | Train accuracy: 0.854000 | Test accuracy: 0.882500\n",
      "Epoch:  4 | Loss: 0.185192 | Train accuracy: 0.863000 | Test accuracy: 0.890000\n",
      "Epoch:  5 | Loss: 0.184304 | Train accuracy: 0.867000 | Test accuracy: 0.892500\n"
     ]
    }
   ],
   "source": [
    "chi = 3\n",
    "\n",
    "training_approx_states = []\n",
    "test_approx_states = []\n",
    "\n",
    "for element in training_states:\n",
    "    mps = MPS(element, L, d, chi)\n",
    "    approximation = MPS_contraction(mps, L, d)\n",
    "    approximation = np.reshape(approximation, (1, -1))\n",
    "    training_approx_states.append(approximation[0])\n",
    "\n",
    "for element in test_states:\n",
    "    mps = MPS(element, L, d, chi)\n",
    "    approximation = MPS_contraction(mps, L, d)\n",
    "    approximation = np.reshape(approximation, (1, -1))\n",
    "    test_approx_states.append(approximation[0])\n",
    "\n",
    "x_train = np.array(training_approx_states, requires_grad=False)\n",
    "x_test = np.array(test_approx_states, requires_grad=False)\n",
    "\n",
    "np.random.seed(88)\n",
    "params = np.random.uniform(size=(layers*loading_qubits, 3), requires_grad=True) \n",
    "\n",
    "predicted_train, fidel_train = test(params, x_train, y_train, dm_labels)\n",
    "accuracy_train = accuracy_score(y_train, predicted_train)\n",
    "\n",
    "predicted_test, fidel_test = test(params, x_test, y_test, dm_labels)\n",
    "accuracy_test = accuracy_score(y_test, predicted_test)\n",
    "\n",
    "initial_predictions = predicted_test\n",
    "\n",
    "loss = cost(params, test_states, y_test, dm_labels)\n",
    "\n",
    "print(\"Epoch: {:2d} | Cost: {:3f} | Train accuracy: {:3f} | Test Accuracy: {:3f}\".format(0, loss, accuracy_train, accuracy_test))\n",
    "\n",
    "\n",
    "for it in range(epochs): \n",
    "    for Xbatch, ybatch in iterate_minibatches(x_train, y_train, batch_size=batch_size):\n",
    "        params, _, _, _ = opt.step(cost, params, Xbatch, ybatch, dm_labels)\n",
    "\n",
    "    predicted_train, fidel_train = test(params, x_train, y_train, dm_labels)\n",
    "    accuracy_train = accuracy_score(y_train, predicted_train) \n",
    "    loss = cost(params, x_train, y_train, dm_labels)\n",
    "\n",
    "    predicted_test, fidel_test = test(params, x_test, y_test, dm_labels)\n",
    "    accuracy_test = accuracy_score(y_test, predicted_test)\n",
    "    res = [it + 1, loss, accuracy_train, accuracy_test]\n",
    "    print(\"Epoch: {:2d} | Loss: {:3f} | Train accuracy: {:3f} | Test accuracy: {:3f}\".format(*res))"
   ]
  },
  {
   "cell_type": "code",
   "execution_count": 67,
   "metadata": {},
   "outputs": [
    {
     "name": "stdout",
     "output_type": "stream",
     "text": [
      "Accuracy: 0.9525\n"
     ]
    }
   ],
   "source": [
    "model = LogisticRegression()\n",
    "model.fit(training_approx_states, y_train)\n",
    "y_pred = model.predict(test_approx_states)\n",
    "accuracy = accuracy_score(y_test, y_pred)\n",
    "print(\"Accuracy:\", accuracy)"
   ]
  },
  {
   "attachments": {},
   "cell_type": "markdown",
   "metadata": {},
   "source": [
    "## $\\chi=4$"
   ]
  },
  {
   "cell_type": "code",
   "execution_count": 68,
   "metadata": {},
   "outputs": [
    {
     "name": "stdout",
     "output_type": "stream",
     "text": [
      "Epoch:  0 | Cost: 0.325183 | Train accuracy: 0.479000 | Test Accuracy: 0.501500\n",
      "Epoch:  1 | Loss: 0.193353 | Train accuracy: 0.864000 | Test accuracy: 0.885500\n",
      "Epoch:  2 | Loss: 0.187446 | Train accuracy: 0.883000 | Test accuracy: 0.893000\n",
      "Epoch:  3 | Loss: 0.187585 | Train accuracy: 0.888000 | Test accuracy: 0.905000\n",
      "Epoch:  4 | Loss: 0.187474 | Train accuracy: 0.886000 | Test accuracy: 0.905500\n",
      "Epoch:  5 | Loss: 0.186901 | Train accuracy: 0.888000 | Test accuracy: 0.906500\n"
     ]
    }
   ],
   "source": [
    "chi = 4\n",
    "\n",
    "training_approx_states = []\n",
    "test_approx_states = []\n",
    "\n",
    "for element in training_states:\n",
    "    mps = MPS(element, L, d, chi)\n",
    "    approximation = MPS_contraction(mps, L, d)\n",
    "    approximation = np.reshape(approximation, (1, -1))\n",
    "    training_approx_states.append(approximation[0])\n",
    "\n",
    "for element in test_states:\n",
    "    mps = MPS(element, L, d, chi)\n",
    "    approximation = MPS_contraction(mps, L, d)\n",
    "    approximation = np.reshape(approximation, (1, -1))\n",
    "    test_approx_states.append(approximation[0])\n",
    "\n",
    "x_train = np.array(training_approx_states, requires_grad=False)\n",
    "x_test = np.array(test_approx_states, requires_grad=False)\n",
    "\n",
    "np.random.seed(88)\n",
    "params = np.random.uniform(size=(layers*loading_qubits, 3), requires_grad=True) \n",
    "\n",
    "predicted_train, fidel_train = test(params, x_train, y_train, dm_labels)\n",
    "accuracy_train = accuracy_score(y_train, predicted_train)\n",
    "\n",
    "predicted_test, fidel_test = test(params, x_test, y_test, dm_labels)\n",
    "accuracy_test = accuracy_score(y_test, predicted_test)\n",
    "\n",
    "initial_predictions = predicted_test\n",
    "\n",
    "loss = cost(params, test_states, y_test, dm_labels)\n",
    "\n",
    "print(\"Epoch: {:2d} | Cost: {:3f} | Train accuracy: {:3f} | Test Accuracy: {:3f}\".format(0, loss, accuracy_train, accuracy_test))\n",
    "\n",
    "\n",
    "for it in range(epochs): \n",
    "    for Xbatch, ybatch in iterate_minibatches(x_train, y_train, batch_size=batch_size):\n",
    "        params, _, _, _ = opt.step(cost, params, Xbatch, ybatch, dm_labels)\n",
    "\n",
    "    predicted_train, fidel_train = test(params, x_train, y_train, dm_labels)\n",
    "    accuracy_train = accuracy_score(y_train, predicted_train) \n",
    "    loss = cost(params, x_train, y_train, dm_labels)\n",
    "\n",
    "    predicted_test, fidel_test = test(params, x_test, y_test, dm_labels)\n",
    "    accuracy_test = accuracy_score(y_test, predicted_test)\n",
    "    res = [it + 1, loss, accuracy_train, accuracy_test]\n",
    "    print(\"Epoch: {:2d} | Loss: {:3f} | Train accuracy: {:3f} | Test accuracy: {:3f}\".format(*res))"
   ]
  },
  {
   "cell_type": "code",
   "execution_count": 69,
   "metadata": {},
   "outputs": [
    {
     "name": "stdout",
     "output_type": "stream",
     "text": [
      "Accuracy: 0.958\n"
     ]
    }
   ],
   "source": [
    "model = LogisticRegression()\n",
    "model.fit(training_approx_states, y_train)\n",
    "y_pred = model.predict(test_approx_states)\n",
    "accuracy = accuracy_score(y_test, y_pred)\n",
    "print(\"Accuracy:\", accuracy)"
   ]
  },
  {
   "attachments": {},
   "cell_type": "markdown",
   "metadata": {},
   "source": [
    "## $\\chi=32$"
   ]
  },
  {
   "cell_type": "code",
   "execution_count": 70,
   "metadata": {},
   "outputs": [],
   "source": [
    "chi = 32\n",
    "\n",
    "training_approx_states = []\n",
    "test_approx_states = []\n",
    "\n",
    "for element in training_states:\n",
    "    mps = MPS(element, L, d, chi)\n",
    "    approximation = MPS_contraction(mps, L, d)\n",
    "    approximation = np.reshape(approximation, (1, -1))\n",
    "    training_approx_states.append(approximation[0])\n",
    "\n",
    "for element in test_states:\n",
    "    mps = MPS(element, L, d, chi)\n",
    "    approximation = MPS_contraction(mps, L, d)\n",
    "    approximation = np.reshape(approximation, (1, -1))\n",
    "    test_approx_states.append(approximation[0])\n",
    "\n",
    "x_train = np.array(training_approx_states, requires_grad=False)\n",
    "x_test = np.array(test_approx_states, requires_grad=False)"
   ]
  },
  {
   "cell_type": "code",
   "execution_count": 71,
   "metadata": {},
   "outputs": [
    {
     "name": "stdout",
     "output_type": "stream",
     "text": [
      "Epoch:  0 | Cost: 0.325183 | Train accuracy: 0.479000 | Test Accuracy: 0.501500\n",
      "Epoch:  1 | Loss: 0.186045 | Train accuracy: 0.934000 | Test accuracy: 0.938500\n",
      "Epoch:  2 | Loss: 0.173697 | Train accuracy: 0.933000 | Test accuracy: 0.948500\n",
      "Epoch:  3 | Loss: 0.167176 | Train accuracy: 0.947000 | Test accuracy: 0.958000\n",
      "Epoch:  4 | Loss: 0.166484 | Train accuracy: 0.948000 | Test accuracy: 0.957000\n",
      "Epoch:  5 | Loss: 0.166608 | Train accuracy: 0.946000 | Test accuracy: 0.957500\n",
      "Epoch:  6 | Loss: 0.166744 | Train accuracy: 0.945000 | Test accuracy: 0.954500\n",
      "Epoch:  7 | Loss: 0.166837 | Train accuracy: 0.945000 | Test accuracy: 0.954500\n",
      "Epoch:  8 | Loss: 0.166898 | Train accuracy: 0.946000 | Test accuracy: 0.953500\n",
      "Epoch:  9 | Loss: 0.166938 | Train accuracy: 0.945000 | Test accuracy: 0.953500\n",
      "Epoch: 10 | Loss: 0.166966 | Train accuracy: 0.946000 | Test accuracy: 0.953000\n",
      "Epoch: 11 | Loss: 0.166987 | Train accuracy: 0.946000 | Test accuracy: 0.952500\n",
      "Epoch: 12 | Loss: 0.167003 | Train accuracy: 0.947000 | Test accuracy: 0.952500\n",
      "Epoch: 13 | Loss: 0.167017 | Train accuracy: 0.947000 | Test accuracy: 0.952500\n",
      "Epoch: 14 | Loss: 0.167028 | Train accuracy: 0.947000 | Test accuracy: 0.952500\n",
      "Epoch: 15 | Loss: 0.167038 | Train accuracy: 0.947000 | Test accuracy: 0.952000\n",
      "Epoch: 16 | Loss: 0.167046 | Train accuracy: 0.947000 | Test accuracy: 0.951500\n",
      "Epoch: 17 | Loss: 0.167053 | Train accuracy: 0.946000 | Test accuracy: 0.951500\n",
      "Epoch: 18 | Loss: 0.167059 | Train accuracy: 0.946000 | Test accuracy: 0.951500\n",
      "Epoch: 19 | Loss: 0.167064 | Train accuracy: 0.946000 | Test accuracy: 0.950500\n",
      "Epoch: 20 | Loss: 0.167068 | Train accuracy: 0.946000 | Test accuracy: 0.950500\n"
     ]
    }
   ],
   "source": [
    "#Train using Adam optimizer and evaluate the classifier\n",
    "learning_rate = 0.05\n",
    "epochs = 20\n",
    "batch_size = 8\n",
    "opt = AdamOptimizer(learning_rate, beta1=0.9, beta2=0.999)\n",
    "\n",
    "np.random.seed(88)\n",
    "params = np.random.uniform(size=(layers*loading_qubits, 3), requires_grad=True) \n",
    "\n",
    "predicted_train, fidel_train = test(params, x_train, y_train, dm_labels)\n",
    "accuracy_train = accuracy_score(y_train, predicted_train)\n",
    "\n",
    "predicted_test, fidel_test = test(params, x_test, y_test, dm_labels)\n",
    "accuracy_test = accuracy_score(y_test, predicted_test)\n",
    "\n",
    "initial_predictions = predicted_test\n",
    "\n",
    "loss = cost(params, test_states, y_test, dm_labels)\n",
    "\n",
    "print(\"Epoch: {:2d} | Cost: {:3f} | Train accuracy: {:3f} | Test Accuracy: {:3f}\".format(0, loss, accuracy_train, accuracy_test))\n",
    "\n",
    "for it in range(epochs):\n",
    "    for Xbatch, ybatch in iterate_minibatches(x_train, y_train, batch_size=batch_size):\n",
    "        params, _, _, _ = opt.step(cost, params, Xbatch, ybatch, dm_labels)\n",
    "\n",
    "    predicted_train, fidel_train = test(params, x_train, y_train, dm_labels)\n",
    "    accuracy_train = accuracy_score(y_train, predicted_train) \n",
    "    loss = cost(params, x_train, y_train, dm_labels)\n",
    "\n",
    "    predicted_test, fidel_test = test(params, x_test, y_test, dm_labels)\n",
    "    accuracy_test = accuracy_score(y_test, predicted_test)\n",
    "    res = [it + 1, loss, accuracy_train, accuracy_test]\n",
    "    print(\"Epoch: {:2d} | Loss: {:3f} | Train accuracy: {:3f} | Test accuracy: {:3f}\".format(*res))"
   ]
  },
  {
   "cell_type": "code",
   "execution_count": 72,
   "metadata": {},
   "outputs": [
    {
     "name": "stdout",
     "output_type": "stream",
     "text": [
      "Accuracy: 0.9665\n"
     ]
    }
   ],
   "source": [
    "model = LogisticRegression()\n",
    "model.fit(training_approx_states, y_train)\n",
    "y_pred = model.predict(test_approx_states)\n",
    "accuracy = accuracy_score(y_test, y_pred)\n",
    "print(\"Accuracy:\", accuracy)"
   ]
  },
  {
   "attachments": {},
   "cell_type": "markdown",
   "metadata": {},
   "source": [
    "## Test accuracies vs. bond dimension"
   ]
  },
  {
   "cell_type": "code",
   "execution_count": 76,
   "metadata": {},
   "outputs": [
    {
     "data": {
      "image/png": "[encoded data removed]",
      "text/plain": [
       "<Figure size 640x480 with 1 Axes>"
      ]
     },
     "metadata": {},
     "output_type": "display_data"
    }
   ],
   "source": [
    "import matplotlib.pyplot as plt\n",
    "\n",
    "chis = [1, 2, 3, 4]\n",
    "classical = [0.796, 0.9375, 0.9525, 0.958]\n",
    "quantum_model = [0.7155, 0.8685, 0.8925, 0.9065]\n",
    "\n",
    "quantum_line = 0.9505\n",
    "classical_line = 0.9665\n",
    "\n",
    "plt.plot(chis, quantum_model, marker='o', label='Wuantum model', color='black')\n",
    "plt.plot(chis, classical, marker='o', label='Classical', color='green')\n",
    "\n",
    "plt.axhline(quantum_line, color='r', linestyle='--', label=r'Quantum ($\\chi=32$)')\n",
    "plt.axhline(classical_line, color='b', linestyle='--', label=r'Classical ($\\chi=32$)')\n",
    "\n",
    "plt.xlabel(r'$\\chi$', fontsize=12)\n",
    "plt.ylabel('Accuracies', fontsize=12)\n",
    "plt.legend()\n",
    "\n",
    "plt.xticks(chis)\n",
    "\n",
    "plt.show()\n"
   ]
  },
  {
   "cell_type": "code",
   "execution_count": null,
   "metadata": {},
   "outputs": [],
   "source": []
  }
 ],
 "metadata": {
  "kernelspec": {
   "display_name": "Python 3",
   "language": "python",
   "name": "python3"
  },
  "language_info": {
   "codemirror_mode": {
    "name": "ipython",
    "version": 3
   },
   "file_extension": ".py",
   "mimetype": "text/x-python",
   "name": "python",
   "nbconvert_exporter": "python",
   "pygments_lexer": "ipython3",
   "version": "3.11.1 (v3.11.1:a7a450f84a, Dec  6 2022, 15:24:06) [Clang 13.0.0 (clang-1300.0.29.30)]"
  },
  "orig_nbformat": 4,
  "vscode": {
   "interpreter": {
    "hash": "aee8b7b246df8f9039afb4144a1f6fd8d2ca17a180786b69acc140d282b71a49"
   }
  }
 },
 "nbformat": 4,
 "nbformat_minor": 2
}
